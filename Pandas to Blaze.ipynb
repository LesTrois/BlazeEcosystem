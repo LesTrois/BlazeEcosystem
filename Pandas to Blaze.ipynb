{
 "cells": [
  {
   "cell_type": "markdown",
   "metadata": {},
   "source": [
    "# Pandas a Blaze\n",
    "\n",
    "Llevando los datos desde un Dataframe a Un objeto Blaze"
   ]
  },
  {
   "cell_type": "code",
   "execution_count": 2,
   "metadata": {
    "collapsed": false
   },
   "outputs": [],
   "source": [
    "import numpy as np\n",
    "import pandas as pd\n",
    "from time import time\n",
    "from odo import odo\n",
    "from blaze import data,by,join,merge ,concat"
   ]
  },
  {
   "cell_type": "code",
   "execution_count": 35,
   "metadata": {
    "collapsed": false
   },
   "outputs": [
    {
     "data": {
      "text/html": [
       "<div>\n",
       "<table border=\"1\" class=\"dataframe\">\n",
       "  <thead>\n",
       "    <tr style=\"text-align: right;\">\n",
       "      <th></th>\n",
       "      <th>id</th>\n",
       "      <th>monto</th>\n",
       "      <th>name</th>\n",
       "    </tr>\n",
       "  </thead>\n",
       "  <tbody>\n",
       "    <tr>\n",
       "      <th>0</th>\n",
       "      <td>1</td>\n",
       "      <td>100</td>\n",
       "      <td>Alice</td>\n",
       "    </tr>\n",
       "    <tr>\n",
       "      <th>1</th>\n",
       "      <td>2</td>\n",
       "      <td>200</td>\n",
       "      <td>Raquel</td>\n",
       "    </tr>\n",
       "    <tr>\n",
       "      <th>2</th>\n",
       "      <td>3</td>\n",
       "      <td>300</td>\n",
       "      <td>Jose</td>\n",
       "    </tr>\n",
       "    <tr>\n",
       "      <th>3</th>\n",
       "      <td>4</td>\n",
       "      <td>400</td>\n",
       "      <td>Raquel</td>\n",
       "    </tr>\n",
       "  </tbody>\n",
       "</table>\n",
       "</div>"
      ],
      "text/plain": [
       "   id  monto    name\n",
       "0   1    100   Alice\n",
       "1   2    200  Raquel\n",
       "2   3    300    Jose\n",
       "3   4    400  Raquel"
      ]
     },
     "execution_count": 35,
     "metadata": {},
     "output_type": "execute_result"
    }
   ],
   "source": [
    "df1 = pd.DataFrame({\n",
    "    'name':['Alice', 'Raquel','Jose','Raquel'],\n",
    "    'monto':[100,200,300,400],\n",
    "    'id':[1,2,3,4]\n",
    "})\n",
    "df_1=df1\n",
    "df1\n"
   ]
  },
  {
   "cell_type": "code",
   "execution_count": 15,
   "metadata": {
    "collapsed": false
   },
   "outputs": [
    {
     "data": {
      "text/plain": [
       "pandas.core.frame.DataFrame"
      ]
     },
     "execution_count": 15,
     "metadata": {},
     "output_type": "execute_result"
    }
   ],
   "source": [
    "type(df1)"
   ]
  },
  {
   "cell_type": "code",
   "execution_count": 36,
   "metadata": {
    "collapsed": false
   },
   "outputs": [
    {
     "data": {
      "text/html": [
       "<table border=\"1\" class=\"dataframe\">\n",
       "  <thead>\n",
       "    <tr style=\"text-align: right;\">\n",
       "      <th></th>\n",
       "      <th>id</th>\n",
       "      <th>monto</th>\n",
       "      <th>name</th>\n",
       "    </tr>\n",
       "  </thead>\n",
       "  <tbody>\n",
       "    <tr>\n",
       "      <th>0</th>\n",
       "      <td>1</td>\n",
       "      <td>100</td>\n",
       "      <td>Alice</td>\n",
       "    </tr>\n",
       "    <tr>\n",
       "      <th>1</th>\n",
       "      <td>2</td>\n",
       "      <td>200</td>\n",
       "      <td>Raquel</td>\n",
       "    </tr>\n",
       "    <tr>\n",
       "      <th>2</th>\n",
       "      <td>3</td>\n",
       "      <td>300</td>\n",
       "      <td>Jose</td>\n",
       "    </tr>\n",
       "    <tr>\n",
       "      <th>3</th>\n",
       "      <td>4</td>\n",
       "      <td>400</td>\n",
       "      <td>Raquel</td>\n",
       "    </tr>\n",
       "  </tbody>\n",
       "</table>"
      ],
      "text/plain": [
       "<'DataFrame' data; _name='_5', dshape='4 * {id: int64, monto: int64, name: ?string}'>"
      ]
     },
     "execution_count": 36,
     "metadata": {},
     "output_type": "execute_result"
    }
   ],
   "source": [
    "df2 = data(df1)\n",
    "df_2=df2\n",
    "df2"
   ]
  },
  {
   "cell_type": "code",
   "execution_count": 17,
   "metadata": {
    "collapsed": false
   },
   "outputs": [
    {
     "data": {
      "text/plain": [
       "blaze.interactive._Data"
      ]
     },
     "execution_count": 17,
     "metadata": {},
     "output_type": "execute_result"
    }
   ],
   "source": [
    "type(df2)"
   ]
  },
  {
   "cell_type": "code",
   "execution_count": 24,
   "metadata": {
    "collapsed": false
   },
   "outputs": [
    {
     "name": "stdout",
     "output_type": "stream",
     "text": [
      "0.0004684925079345703\n",
      "0.00023651123046875\n"
     ]
    }
   ],
   "source": [
    "tiempo_inicial = time()\n",
    "df1.monto*2\n",
    "tiempo_final = time()\n",
    "print(tiempo_final - tiempo_inicial)\n",
    "\n",
    "tiempo_inicial = time()\n",
    "df2.monto*2\n",
    "tiempo_final = time()\n",
    "print(tiempo_final - tiempo_inicial)"
   ]
  },
  {
   "cell_type": "code",
   "execution_count": 25,
   "metadata": {
    "collapsed": false
   },
   "outputs": [
    {
     "name": "stdout",
     "output_type": "stream",
     "text": [
      "0.0007827281951904297\n",
      "0.000118255615234375\n"
     ]
    }
   ],
   "source": [
    "tiempo_inicial = time()\n",
    "df1[['id','monto']]\n",
    "tiempo_final = time()\n",
    "print(tiempo_final - tiempo_inicial)\n",
    "\n",
    "tiempo_inicial = time()\n",
    "df2[['id','monto']]\n",
    "tiempo_final = time()\n",
    "print(tiempo_final - tiempo_inicial)"
   ]
  },
  {
   "cell_type": "code",
   "execution_count": 26,
   "metadata": {
    "collapsed": false
   },
   "outputs": [
    {
     "name": "stdout",
     "output_type": "stream",
     "text": [
      "0.0008072853088378906\n",
      "0.0003752708435058594\n"
     ]
    }
   ],
   "source": [
    "tiempo_inicial = time()\n",
    "df1[df1.monto > 300]\n",
    "tiempo_final = time()\n",
    "print(tiempo_final - tiempo_inicial)\n",
    "\n",
    "tiempo_inicial = time()\n",
    "df2[df2.monto > 300]\n",
    "tiempo_final = time()\n",
    "print(tiempo_final - tiempo_inicial)"
   ]
  },
  {
   "cell_type": "code",
   "execution_count": 32,
   "metadata": {
    "collapsed": false
   },
   "outputs": [
    {
     "name": "stdout",
     "output_type": "stream",
     "text": [
      "0.0026047229766845703\n",
      "0.0004889965057373047\n"
     ]
    }
   ],
   "source": [
    "\n",
    "tiempo_inicial = time()\n",
    "df1.groupby('name').monto.mean()\n",
    "df1.groupby(['name', 'id']).monto.mean()\n",
    "tiempo_final = time()\n",
    "print(tiempo_final - tiempo_inicial)\n",
    "\n",
    "tiempo_inicial = time()\n",
    "by(df2.monto, monto = df2.monto.mean())\n",
    "by(merge(df2.monto,df2.id), monto = df2.monto.mean())\n",
    "tiempo_final = time()\n",
    "print(tiempo_final - tiempo_inicial)"
   ]
  },
  {
   "cell_type": "code",
   "execution_count": 37,
   "metadata": {
    "collapsed": false
   },
   "outputs": [
    {
     "data": {
      "text/html": [
       "<div>\n",
       "<table border=\"1\" class=\"dataframe\">\n",
       "  <thead>\n",
       "    <tr style=\"text-align: right;\">\n",
       "      <th></th>\n",
       "      <th>id_x</th>\n",
       "      <th>monto_x</th>\n",
       "      <th>name</th>\n",
       "      <th>id_y</th>\n",
       "      <th>monto_y</th>\n",
       "    </tr>\n",
       "  </thead>\n",
       "  <tbody>\n",
       "    <tr>\n",
       "      <th>0</th>\n",
       "      <td>1</td>\n",
       "      <td>100</td>\n",
       "      <td>Alice</td>\n",
       "      <td>1</td>\n",
       "      <td>100</td>\n",
       "    </tr>\n",
       "    <tr>\n",
       "      <th>1</th>\n",
       "      <td>2</td>\n",
       "      <td>200</td>\n",
       "      <td>Raquel</td>\n",
       "      <td>2</td>\n",
       "      <td>200</td>\n",
       "    </tr>\n",
       "    <tr>\n",
       "      <th>2</th>\n",
       "      <td>2</td>\n",
       "      <td>200</td>\n",
       "      <td>Raquel</td>\n",
       "      <td>4</td>\n",
       "      <td>400</td>\n",
       "    </tr>\n",
       "    <tr>\n",
       "      <th>3</th>\n",
       "      <td>4</td>\n",
       "      <td>400</td>\n",
       "      <td>Raquel</td>\n",
       "      <td>2</td>\n",
       "      <td>200</td>\n",
       "    </tr>\n",
       "    <tr>\n",
       "      <th>4</th>\n",
       "      <td>4</td>\n",
       "      <td>400</td>\n",
       "      <td>Raquel</td>\n",
       "      <td>4</td>\n",
       "      <td>400</td>\n",
       "    </tr>\n",
       "    <tr>\n",
       "      <th>5</th>\n",
       "      <td>3</td>\n",
       "      <td>300</td>\n",
       "      <td>Jose</td>\n",
       "      <td>3</td>\n",
       "      <td>300</td>\n",
       "    </tr>\n",
       "  </tbody>\n",
       "</table>\n",
       "</div>"
      ],
      "text/plain": [
       "   id_x  monto_x    name  id_y  monto_y\n",
       "0     1      100   Alice     1      100\n",
       "1     2      200  Raquel     2      200\n",
       "2     2      200  Raquel     4      400\n",
       "3     4      400  Raquel     2      200\n",
       "4     4      400  Raquel     4      400\n",
       "5     3      300    Jose     3      300"
      ]
     },
     "execution_count": 37,
     "metadata": {},
     "output_type": "execute_result"
    }
   ],
   "source": [
    "pd.merge(df1,df_1,on='name')"
   ]
  },
  {
   "cell_type": "code",
   "execution_count": 40,
   "metadata": {
    "collapsed": false
   },
   "outputs": [
    {
     "data": {
      "text/html": [
       "<table border=\"1\" class=\"dataframe\">\n",
       "  <thead>\n",
       "    <tr style=\"text-align: right;\">\n",
       "      <th></th>\n",
       "      <th>name</th>\n",
       "      <th>id_left</th>\n",
       "      <th>monto_left</th>\n",
       "      <th>id_right</th>\n",
       "      <th>monto_right</th>\n",
       "    </tr>\n",
       "  </thead>\n",
       "  <tbody>\n",
       "    <tr>\n",
       "      <th>0</th>\n",
       "      <td>Alice</td>\n",
       "      <td>1</td>\n",
       "      <td>100</td>\n",
       "      <td>1</td>\n",
       "      <td>100</td>\n",
       "    </tr>\n",
       "    <tr>\n",
       "      <th>1</th>\n",
       "      <td>Raquel</td>\n",
       "      <td>2</td>\n",
       "      <td>200</td>\n",
       "      <td>2</td>\n",
       "      <td>200</td>\n",
       "    </tr>\n",
       "    <tr>\n",
       "      <th>2</th>\n",
       "      <td>Raquel</td>\n",
       "      <td>2</td>\n",
       "      <td>200</td>\n",
       "      <td>4</td>\n",
       "      <td>400</td>\n",
       "    </tr>\n",
       "    <tr>\n",
       "      <th>3</th>\n",
       "      <td>Raquel</td>\n",
       "      <td>4</td>\n",
       "      <td>400</td>\n",
       "      <td>2</td>\n",
       "      <td>200</td>\n",
       "    </tr>\n",
       "    <tr>\n",
       "      <th>4</th>\n",
       "      <td>Raquel</td>\n",
       "      <td>4</td>\n",
       "      <td>400</td>\n",
       "      <td>4</td>\n",
       "      <td>400</td>\n",
       "    </tr>\n",
       "    <tr>\n",
       "      <th>5</th>\n",
       "      <td>Jose</td>\n",
       "      <td>3</td>\n",
       "      <td>300</td>\n",
       "      <td>3</td>\n",
       "      <td>300</td>\n",
       "    </tr>\n",
       "  </tbody>\n",
       "</table>"
      ],
      "text/plain": [
       "     name  id_left  monto_left  id_right  monto_right\n",
       "0   Alice        1         100         1          100\n",
       "1  Raquel        2         200         2          200\n",
       "2  Raquel        2         200         4          400\n",
       "3  Raquel        4         400         2          200\n",
       "4  Raquel        4         400         4          400\n",
       "5    Jose        3         300         3          300"
      ]
     },
     "execution_count": 40,
     "metadata": {},
     "output_type": "execute_result"
    }
   ],
   "source": [
    "join(df2, df_2, 'name')"
   ]
  },
  {
   "cell_type": "code",
   "execution_count": 43,
   "metadata": {
    "collapsed": false
   },
   "outputs": [
    {
     "data": {
      "text/plain": [
       "0    101\n",
       "1    201\n",
       "2    301\n",
       "3    401\n",
       "Name: monto, dtype: int64"
      ]
     },
     "execution_count": 43,
     "metadata": {},
     "output_type": "execute_result"
    }
   ],
   "source": [
    "df1.monto.map(lambda x: x+ 1)"
   ]
  },
  {
   "cell_type": "code",
   "execution_count": 50,
   "metadata": {
    "collapsed": false
   },
   "outputs": [
    {
     "data": {
      "text/html": [
       "<table border=\"1\" class=\"dataframe\">\n",
       "  <thead>\n",
       "    <tr style=\"text-align: right;\">\n",
       "      <th></th>\n",
       "      <th>monto</th>\n",
       "    </tr>\n",
       "  </thead>\n",
       "  <tbody>\n",
       "    <tr>\n",
       "      <th>0</th>\n",
       "      <td>101</td>\n",
       "    </tr>\n",
       "    <tr>\n",
       "      <th>1</th>\n",
       "      <td>201</td>\n",
       "    </tr>\n",
       "    <tr>\n",
       "      <th>2</th>\n",
       "      <td>301</td>\n",
       "    </tr>\n",
       "    <tr>\n",
       "      <th>3</th>\n",
       "      <td>401</td>\n",
       "    </tr>\n",
       "  </tbody>\n",
       "</table>"
      ],
      "text/plain": [
       "   monto\n",
       "0    101\n",
       "1    201\n",
       "2    301\n",
       "3    401"
      ]
     },
     "execution_count": 50,
     "metadata": {},
     "output_type": "execute_result"
    }
   ],
   "source": [
    "df2.monto.map(lambda x: x+ 1,'int64')"
   ]
  },
  {
   "cell_type": "code",
   "execution_count": 47,
   "metadata": {
    "collapsed": false
   },
   "outputs": [
    {
     "data": {
      "text/html": [
       "<div>\n",
       "<table border=\"1\" class=\"dataframe\">\n",
       "  <thead>\n",
       "    <tr style=\"text-align: right;\">\n",
       "      <th></th>\n",
       "      <th>id</th>\n",
       "      <th>dollars</th>\n",
       "      <th>alias</th>\n",
       "    </tr>\n",
       "  </thead>\n",
       "  <tbody>\n",
       "    <tr>\n",
       "      <th>0</th>\n",
       "      <td>1</td>\n",
       "      <td>100</td>\n",
       "      <td>Alice</td>\n",
       "    </tr>\n",
       "    <tr>\n",
       "      <th>1</th>\n",
       "      <td>2</td>\n",
       "      <td>200</td>\n",
       "      <td>Raquel</td>\n",
       "    </tr>\n",
       "    <tr>\n",
       "      <th>2</th>\n",
       "      <td>3</td>\n",
       "      <td>300</td>\n",
       "      <td>Jose</td>\n",
       "    </tr>\n",
       "    <tr>\n",
       "      <th>3</th>\n",
       "      <td>4</td>\n",
       "      <td>400</td>\n",
       "      <td>Raquel</td>\n",
       "    </tr>\n",
       "  </tbody>\n",
       "</table>\n",
       "</div>"
      ],
      "text/plain": [
       "   id  dollars   alias\n",
       "0   1      100   Alice\n",
       "1   2      200  Raquel\n",
       "2   3      300    Jose\n",
       "3   4      400  Raquel"
      ]
     },
     "execution_count": 47,
     "metadata": {},
     "output_type": "execute_result"
    }
   ],
   "source": [
    "df1.rename(columns={'name': 'alias',\n",
    "'monto': 'dollars'})"
   ]
  },
  {
   "cell_type": "code",
   "execution_count": 51,
   "metadata": {
    "collapsed": false
   },
   "outputs": [
    {
     "data": {
      "text/plain": [
       "0     Alice\n",
       "1    Raquel\n",
       "2      Jose\n",
       "Name: name, dtype: object"
      ]
     },
     "execution_count": 51,
     "metadata": {},
     "output_type": "execute_result"
    }
   ],
   "source": [
    "df1.drop_duplicates()\n",
    "df1.name.drop_duplicates()"
   ]
  },
  {
   "cell_type": "code",
   "execution_count": 52,
   "metadata": {
    "collapsed": false
   },
   "outputs": [
    {
     "data": {
      "text/html": [
       "<table border=\"1\" class=\"dataframe\">\n",
       "  <thead>\n",
       "    <tr style=\"text-align: right;\">\n",
       "      <th></th>\n",
       "      <th>name</th>\n",
       "    </tr>\n",
       "  </thead>\n",
       "  <tbody>\n",
       "    <tr>\n",
       "      <th>0</th>\n",
       "      <td>Alice</td>\n",
       "    </tr>\n",
       "    <tr>\n",
       "      <th>1</th>\n",
       "      <td>Raquel</td>\n",
       "    </tr>\n",
       "    <tr>\n",
       "      <th>2</th>\n",
       "      <td>Jose</td>\n",
       "    </tr>\n",
       "  </tbody>\n",
       "</table>"
      ],
      "text/plain": [
       "     name\n",
       "0   Alice\n",
       "1  Raquel\n",
       "2    Jose"
      ]
     },
     "execution_count": 52,
     "metadata": {},
     "output_type": "execute_result"
    }
   ],
   "source": [
    "df2.distinct()\n",
    "df2.name.distinct()"
   ]
  },
  {
   "cell_type": "markdown",
   "metadata": {},
   "source": [
    "## Usando CSV\n",
    "\n",
    "Cargar una data grande requiere de mucho tiempo, mas aun que actualmente se trabaja con cantidades de datos que superan los gigas teras o petabytes"
   ]
  },
  {
   "cell_type": "code",
   "execution_count": 5,
   "metadata": {
    "collapsed": false
   },
   "outputs": [
    {
     "name": "stdout",
     "output_type": "stream",
     "text": [
      "37.08065438270569\n",
      "0.18565773963928223\n"
     ]
    }
   ],
   "source": [
    "tiempo_inicial = time()\n",
    "df3 = pd.read_csv('2008.csv') \n",
    "tiempo_final = time()\n",
    "print(tiempo_final - tiempo_inicial)\n",
    "\n",
    "tiempo_inicial = time()\n",
    "df4 = data('2008.csv') \n",
    "tiempo_final = time()\n",
    "print(tiempo_final - tiempo_inicial)"
   ]
  },
  {
   "cell_type": "code",
   "execution_count": 7,
   "metadata": {
    "collapsed": false
   },
   "outputs": [
    {
     "data": {
      "text/plain": [
       "<bound method NDFrame.head of          Year  Month  DayofMonth  DayOfWeek  DepTime  CRSDepTime  ArrTime  \\\n",
       "0        2008      1           3          4   2003.0        1955   2211.0   \n",
       "1        2008      1           3          4    754.0         735   1002.0   \n",
       "2        2008      1           3          4    628.0         620    804.0   \n",
       "3        2008      1           3          4    926.0         930   1054.0   \n",
       "4        2008      1           3          4   1829.0        1755   1959.0   \n",
       "5        2008      1           3          4   1940.0        1915   2121.0   \n",
       "6        2008      1           3          4   1937.0        1830   2037.0   \n",
       "7        2008      1           3          4   1039.0        1040   1132.0   \n",
       "8        2008      1           3          4    617.0         615    652.0   \n",
       "9        2008      1           3          4   1620.0        1620   1639.0   \n",
       "10       2008      1           3          4    706.0         700    916.0   \n",
       "11       2008      1           3          4   1644.0        1510   1845.0   \n",
       "12       2008      1           3          4   1426.0        1430   1426.0   \n",
       "13       2008      1           3          4    715.0         715    720.0   \n",
       "14       2008      1           3          4   1702.0        1700   1651.0   \n",
       "15       2008      1           3          4   1029.0        1020   1021.0   \n",
       "16       2008      1           3          4   1452.0        1425   1640.0   \n",
       "17       2008      1           3          4    754.0         745    940.0   \n",
       "18       2008      1           3          4   1323.0        1255   1526.0   \n",
       "19       2008      1           3          4   1416.0        1325   1512.0   \n",
       "20       2008      1           3          4    706.0         705    807.0   \n",
       "21       2008      1           3          4   1657.0        1625   1754.0   \n",
       "22       2008      1           3          4   1900.0        1840   1956.0   \n",
       "23       2008      1           3          4   1039.0        1030   1133.0   \n",
       "24       2008      1           3          4    801.0         800    902.0   \n",
       "25       2008      1           3          4   1520.0        1455   1619.0   \n",
       "26       2008      1           3          4   1422.0        1255   1657.0   \n",
       "27       2008      1           3          4   1954.0        1925   2239.0   \n",
       "28       2008      1           3          4    636.0         635    921.0   \n",
       "29       2008      1           3          4    734.0         730    958.0   \n",
       "...       ...    ...         ...        ...      ...         ...      ...   \n",
       "7009698  2008     12          13          6   1625.0        1635   1744.0   \n",
       "7009699  2008     12          13          6   1254.0        1221   1420.0   \n",
       "7009700  2008     12          13          6   1842.0        1845   1953.0   \n",
       "7009701  2008     12          13          6   1528.0        1500   1720.0   \n",
       "7009702  2008     12          13          6   1531.0        1522   1822.0   \n",
       "7009703  2008     12          13          6   1910.0        1910   2017.0   \n",
       "7009704  2008     12          13          6   1441.0        1445   1604.0   \n",
       "7009705  2008     12          13          6    921.0         830   1112.0   \n",
       "7009706  2008     12          13          6   1435.0        1440   1701.0   \n",
       "7009707  2008     12          13          6   1750.0        1755   2010.0   \n",
       "7009708  2008     12          13          6    706.0         710    850.0   \n",
       "7009709  2008     12          13          6   1552.0        1520   1735.0   \n",
       "7009710  2008     12          13          6   1250.0        1220   1617.0   \n",
       "7009711  2008     12          13          6   1033.0        1041   1255.0   \n",
       "7009712  2008     12          13          6    840.0         843   1025.0   \n",
       "7009713  2008     12          13          6    810.0         815   1504.0   \n",
       "7009714  2008     12          13          6    547.0         545    646.0   \n",
       "7009715  2008     12          13          6    848.0         850   1024.0   \n",
       "7009716  2008     12          13          6    936.0         936   1114.0   \n",
       "7009717  2008     12          13          6    657.0         600    904.0   \n",
       "7009718  2008     12          13          6   1007.0         847   1149.0   \n",
       "7009719  2008     12          13          6    638.0         640    808.0   \n",
       "7009720  2008     12          13          6    756.0         800   1032.0   \n",
       "7009721  2008     12          13          6    612.0         615    923.0   \n",
       "7009722  2008     12          13          6    749.0         750    901.0   \n",
       "7009723  2008     12          13          6   1002.0         959   1204.0   \n",
       "7009724  2008     12          13          6    834.0         835   1021.0   \n",
       "7009725  2008     12          13          6    655.0         700    856.0   \n",
       "7009726  2008     12          13          6   1251.0        1240   1446.0   \n",
       "7009727  2008     12          13          6   1110.0        1103   1413.0   \n",
       "\n",
       "         CRSArrTime UniqueCarrier  FlightNum        ...         TaxiIn  \\\n",
       "0              2225            WN        335        ...            4.0   \n",
       "1              1000            WN       3231        ...            5.0   \n",
       "2               750            WN        448        ...            3.0   \n",
       "3              1100            WN       1746        ...            3.0   \n",
       "4              1925            WN       3920        ...            3.0   \n",
       "5              2110            WN        378        ...            4.0   \n",
       "6              1940            WN        509        ...            3.0   \n",
       "7              1150            WN        535        ...            7.0   \n",
       "8               650            WN         11        ...            6.0   \n",
       "9              1655            WN        810        ...            3.0   \n",
       "10              915            WN        100        ...            5.0   \n",
       "11             1725            WN       1333        ...            6.0   \n",
       "12             1425            WN        829        ...            9.0   \n",
       "13              710            WN       1016        ...            7.0   \n",
       "14             1655            WN       1827        ...            4.0   \n",
       "15             1010            WN       2272        ...            6.0   \n",
       "16             1625            WN        675        ...            7.0   \n",
       "17              955            WN       1144        ...            5.0   \n",
       "18             1510            WN          4        ...            4.0   \n",
       "19             1435            WN         54        ...            2.0   \n",
       "20              810            WN         68        ...            3.0   \n",
       "21             1735            WN        623        ...            5.0   \n",
       "22             1950            WN        717        ...            2.0   \n",
       "23             1140            WN       1244        ...            2.0   \n",
       "24              910            WN       2101        ...            3.0   \n",
       "25             1605            WN       2553        ...            2.0   \n",
       "26             1610            WN        188        ...            6.0   \n",
       "27             2235            WN       1754        ...            3.0   \n",
       "28              945            WN       2275        ...            5.0   \n",
       "29             1020            WN        550        ...            2.0   \n",
       "...             ...           ...        ...        ...            ...   \n",
       "7009698        1758            DL       1605        ...           12.0   \n",
       "7009699        1359            DL       1609        ...            9.0   \n",
       "7009700        2006            DL       1610        ...            8.0   \n",
       "7009701        1642            DL       1611        ...            4.0   \n",
       "7009702        1823            DL       1612        ...            9.0   \n",
       "7009703        2016            DL       1612        ...            5.0   \n",
       "7009704        1622            DL       1613        ...            8.0   \n",
       "7009705        1008            DL       1616        ...            8.0   \n",
       "7009706        1704            DL       1618        ...           20.0   \n",
       "7009707        2015            DL       1618        ...            7.0   \n",
       "7009708         837            DL       1619        ...           23.0   \n",
       "7009709        1718            DL       1620        ...            9.0   \n",
       "7009710        1552            DL       1621        ...            9.0   \n",
       "7009711        1303            DL       1622        ...            9.0   \n",
       "7009712        1021            DL       1624        ...            6.0   \n",
       "7009713        1526            DL       1625        ...            7.0   \n",
       "7009714         650            DL       1627        ...            8.0   \n",
       "7009715        1005            DL       1628        ...            4.0   \n",
       "7009716        1119            DL       1630        ...            4.0   \n",
       "7009717         749            DL       1631        ...           15.0   \n",
       "7009718        1010            DL       1631        ...            8.0   \n",
       "7009719         753            DL       1632        ...           14.0   \n",
       "7009720        1026            DL       1633        ...           23.0   \n",
       "7009721         907            DL       1635        ...            5.0   \n",
       "7009722         859            DL       1636        ...           20.0   \n",
       "7009723        1150            DL       1636        ...            6.0   \n",
       "7009724        1023            DL       1637        ...            5.0   \n",
       "7009725         856            DL       1638        ...           24.0   \n",
       "7009726        1437            DL       1639        ...           13.0   \n",
       "7009727        1418            DL       1641        ...            8.0   \n",
       "\n",
       "         TaxiOut  Cancelled  CancellationCode  Diverted  CarrierDelay  \\\n",
       "0            8.0          0               NaN         0           NaN   \n",
       "1           10.0          0               NaN         0           NaN   \n",
       "2           17.0          0               NaN         0           NaN   \n",
       "3            7.0          0               NaN         0           NaN   \n",
       "4           10.0          0               NaN         0           2.0   \n",
       "5           10.0          0               NaN         0           NaN   \n",
       "6            7.0          0               NaN         0          10.0   \n",
       "7            7.0          0               NaN         0           NaN   \n",
       "8           19.0          0               NaN         0           NaN   \n",
       "9            6.0          0               NaN         0           NaN   \n",
       "10          19.0          0               NaN         0           NaN   \n",
       "11           8.0          0               NaN         0           8.0   \n",
       "12          12.0          0               NaN         0           NaN   \n",
       "13          21.0          0               NaN         0           NaN   \n",
       "14          10.0          0               NaN         0           NaN   \n",
       "15           9.0          0               NaN         0           NaN   \n",
       "16           8.0          0               NaN         0           3.0   \n",
       "17          16.0          0               NaN         0           NaN   \n",
       "18           9.0          0               NaN         0           0.0   \n",
       "19           5.0          0               NaN         0          12.0   \n",
       "20           7.0          0               NaN         0           NaN   \n",
       "21           5.0          0               NaN         0           7.0   \n",
       "22           5.0          0               NaN         0           NaN   \n",
       "23           5.0          0               NaN         0           NaN   \n",
       "24           5.0          0               NaN         0           NaN   \n",
       "25           7.0          0               NaN         0           NaN   \n",
       "26           6.0          0               NaN         0          40.0   \n",
       "27           7.0          0               NaN         0           NaN   \n",
       "28          13.0          0               NaN         0           NaN   \n",
       "29           8.0          0               NaN         0           NaN   \n",
       "...          ...        ...               ...       ...           ...   \n",
       "7009698     21.0          0               NaN         0           NaN   \n",
       "7009699     13.0          0               NaN         0           0.0   \n",
       "7009700     11.0          0               NaN         0           NaN   \n",
       "7009701     29.0          0               NaN         0          16.0   \n",
       "7009702     14.0          0               NaN         0           NaN   \n",
       "7009703     24.0          0               NaN         0           NaN   \n",
       "7009704     10.0          0               NaN         0           NaN   \n",
       "7009705     21.0          0               NaN         0          51.0   \n",
       "7009706     10.0          0               NaN         0           NaN   \n",
       "7009707     20.0          0               NaN         0           NaN   \n",
       "7009708     32.0          0               NaN         0           NaN   \n",
       "7009709      7.0          0               NaN         0           0.0   \n",
       "7009710     18.0          0               NaN         0           3.0   \n",
       "7009711     15.0          0               NaN         0           NaN   \n",
       "7009712     46.0          0               NaN         0           NaN   \n",
       "7009713     17.0          0               NaN         0           NaN   \n",
       "7009714     13.0          0               NaN         0           NaN   \n",
       "7009715     44.0          0               NaN         0           0.0   \n",
       "7009716     24.0          0               NaN         0           NaN   \n",
       "7009717     34.0          0               NaN         0           0.0   \n",
       "7009718     32.0          0               NaN         0           1.0   \n",
       "7009719     26.0          0               NaN         0           0.0   \n",
       "7009720     17.0          0               NaN         0           NaN   \n",
       "7009721     23.0          0               NaN         0           0.0   \n",
       "7009722     11.0          0               NaN         0           NaN   \n",
       "7009723     45.0          0               NaN         0           NaN   \n",
       "7009724     23.0          0               NaN         0           NaN   \n",
       "7009725     12.0          0               NaN         0           NaN   \n",
       "7009726     13.0          0               NaN         0           NaN   \n",
       "7009727     11.0          0               NaN         0           NaN   \n",
       "\n",
       "        WeatherDelay NASDelay  SecurityDelay  LateAircraftDelay  \n",
       "0                NaN      NaN            NaN                NaN  \n",
       "1                NaN      NaN            NaN                NaN  \n",
       "2                NaN      NaN            NaN                NaN  \n",
       "3                NaN      NaN            NaN                NaN  \n",
       "4                0.0      0.0            0.0               32.0  \n",
       "5                NaN      NaN            NaN                NaN  \n",
       "6                0.0      0.0            0.0               47.0  \n",
       "7                NaN      NaN            NaN                NaN  \n",
       "8                NaN      NaN            NaN                NaN  \n",
       "9                NaN      NaN            NaN                NaN  \n",
       "10               NaN      NaN            NaN                NaN  \n",
       "11               0.0      0.0            0.0               72.0  \n",
       "12               NaN      NaN            NaN                NaN  \n",
       "13               NaN      NaN            NaN                NaN  \n",
       "14               NaN      NaN            NaN                NaN  \n",
       "15               NaN      NaN            NaN                NaN  \n",
       "16               0.0      0.0            0.0               12.0  \n",
       "17               NaN      NaN            NaN                NaN  \n",
       "18               0.0      0.0            0.0               16.0  \n",
       "19               0.0      0.0            0.0               25.0  \n",
       "20               NaN      NaN            NaN                NaN  \n",
       "21               0.0      0.0            0.0               12.0  \n",
       "22               NaN      NaN            NaN                NaN  \n",
       "23               NaN      NaN            NaN                NaN  \n",
       "24               NaN      NaN            NaN                NaN  \n",
       "25               NaN      NaN            NaN                NaN  \n",
       "26               0.0      0.0            0.0                7.0  \n",
       "27               NaN      NaN            NaN                NaN  \n",
       "28               NaN      NaN            NaN                NaN  \n",
       "29               NaN      NaN            NaN                NaN  \n",
       "...              ...      ...            ...                ...  \n",
       "7009698          NaN      NaN            NaN                NaN  \n",
       "7009699          0.0      0.0            0.0               21.0  \n",
       "7009700          NaN      NaN            NaN                NaN  \n",
       "7009701          0.0     10.0            0.0               12.0  \n",
       "7009702          NaN      NaN            NaN                NaN  \n",
       "7009703          NaN      NaN            NaN                NaN  \n",
       "7009704          NaN      NaN            NaN                NaN  \n",
       "7009705          0.0     13.0            0.0                0.0  \n",
       "7009706          NaN      NaN            NaN                NaN  \n",
       "7009707          NaN      NaN            NaN                NaN  \n",
       "7009708          NaN      NaN            NaN                NaN  \n",
       "7009709          0.0      0.0            0.0               17.0  \n",
       "7009710          0.0      0.0            0.0               22.0  \n",
       "7009711          NaN      NaN            NaN                NaN  \n",
       "7009712          NaN      NaN            NaN                NaN  \n",
       "7009713          NaN      NaN            NaN                NaN  \n",
       "7009714          NaN      NaN            NaN                NaN  \n",
       "7009715          0.0     19.0            0.0                0.0  \n",
       "7009716          NaN      NaN            NaN                NaN  \n",
       "7009717         57.0     18.0            0.0                0.0  \n",
       "7009718          0.0     19.0            0.0               79.0  \n",
       "7009719          0.0     15.0            0.0                0.0  \n",
       "7009720          NaN      NaN            NaN                NaN  \n",
       "7009721          0.0     16.0            0.0                0.0  \n",
       "7009722          NaN      NaN            NaN                NaN  \n",
       "7009723          NaN      NaN            NaN                NaN  \n",
       "7009724          NaN      NaN            NaN                NaN  \n",
       "7009725          NaN      NaN            NaN                NaN  \n",
       "7009726          NaN      NaN            NaN                NaN  \n",
       "7009727          NaN      NaN            NaN                NaN  \n",
       "\n",
       "[7009728 rows x 29 columns]>"
      ]
     },
     "execution_count": 7,
     "metadata": {},
     "output_type": "execute_result"
    }
   ],
   "source": [
    "df3.head"
   ]
  },
  {
   "cell_type": "code",
   "execution_count": 17,
   "metadata": {
    "collapsed": false
   },
   "outputs": [
    {
     "data": {
      "text/html": [
       "<table border=\"1\" class=\"dataframe\">\n",
       "  <thead>\n",
       "    <tr style=\"text-align: right;\">\n",
       "      <th></th>\n",
       "      <th>Year</th>\n",
       "      <th>Month</th>\n",
       "      <th>DayofMonth</th>\n",
       "      <th>DayOfWeek</th>\n",
       "      <th>DepTime</th>\n",
       "      <th>CRSDepTime</th>\n",
       "      <th>ArrTime</th>\n",
       "      <th>CRSArrTime</th>\n",
       "      <th>UniqueCarrier</th>\n",
       "      <th>FlightNum</th>\n",
       "      <th>TailNum</th>\n",
       "      <th>ActualElapsedTime</th>\n",
       "      <th>CRSElapsedTime</th>\n",
       "      <th>AirTime</th>\n",
       "      <th>ArrDelay</th>\n",
       "      <th>DepDelay</th>\n",
       "      <th>Origin</th>\n",
       "      <th>Dest</th>\n",
       "      <th>Distance</th>\n",
       "      <th>TaxiIn</th>\n",
       "      <th>TaxiOut</th>\n",
       "      <th>Cancelled</th>\n",
       "      <th>CancellationCode</th>\n",
       "      <th>Diverted</th>\n",
       "      <th>CarrierDelay</th>\n",
       "      <th>WeatherDelay</th>\n",
       "      <th>NASDelay</th>\n",
       "      <th>SecurityDelay</th>\n",
       "      <th>LateAircraftDelay</th>\n",
       "    </tr>\n",
       "  </thead>\n",
       "  <tbody>\n",
       "    <tr>\n",
       "      <th>0</th>\n",
       "      <td>2008</td>\n",
       "      <td>1</td>\n",
       "      <td>3</td>\n",
       "      <td>4</td>\n",
       "      <td>2003.0</td>\n",
       "      <td>1955</td>\n",
       "      <td>2211.0</td>\n",
       "      <td>2225.0</td>\n",
       "      <td>WN</td>\n",
       "      <td>335.0</td>\n",
       "      <td>N712SW</td>\n",
       "      <td>128.0</td>\n",
       "      <td>150.0</td>\n",
       "      <td>116.0</td>\n",
       "      <td>-14.0</td>\n",
       "      <td>8.0</td>\n",
       "      <td>IAD</td>\n",
       "      <td>TPA</td>\n",
       "      <td>810.0</td>\n",
       "      <td>4.0</td>\n",
       "      <td>8.0</td>\n",
       "      <td>0.0</td>\n",
       "      <td>NaN</td>\n",
       "      <td>0.0</td>\n",
       "      <td>NaN</td>\n",
       "      <td>NaN</td>\n",
       "      <td>NaN</td>\n",
       "      <td>NaN</td>\n",
       "      <td>NaN</td>\n",
       "    </tr>\n",
       "    <tr>\n",
       "      <th>1</th>\n",
       "      <td>2008</td>\n",
       "      <td>1</td>\n",
       "      <td>3</td>\n",
       "      <td>4</td>\n",
       "      <td>754.0</td>\n",
       "      <td>735</td>\n",
       "      <td>1002.0</td>\n",
       "      <td>1000.0</td>\n",
       "      <td>WN</td>\n",
       "      <td>3231.0</td>\n",
       "      <td>N772SW</td>\n",
       "      <td>128.0</td>\n",
       "      <td>145.0</td>\n",
       "      <td>113.0</td>\n",
       "      <td>2.0</td>\n",
       "      <td>19.0</td>\n",
       "      <td>IAD</td>\n",
       "      <td>TPA</td>\n",
       "      <td>810.0</td>\n",
       "      <td>5.0</td>\n",
       "      <td>10.0</td>\n",
       "      <td>0.0</td>\n",
       "      <td>NaN</td>\n",
       "      <td>0.0</td>\n",
       "      <td>NaN</td>\n",
       "      <td>NaN</td>\n",
       "      <td>NaN</td>\n",
       "      <td>NaN</td>\n",
       "      <td>NaN</td>\n",
       "    </tr>\n",
       "    <tr>\n",
       "      <th>2</th>\n",
       "      <td>2008</td>\n",
       "      <td>1</td>\n",
       "      <td>3</td>\n",
       "      <td>4</td>\n",
       "      <td>628.0</td>\n",
       "      <td>620</td>\n",
       "      <td>804.0</td>\n",
       "      <td>750.0</td>\n",
       "      <td>WN</td>\n",
       "      <td>448.0</td>\n",
       "      <td>N428WN</td>\n",
       "      <td>96.0</td>\n",
       "      <td>90.0</td>\n",
       "      <td>76.0</td>\n",
       "      <td>14.0</td>\n",
       "      <td>8.0</td>\n",
       "      <td>IND</td>\n",
       "      <td>BWI</td>\n",
       "      <td>515.0</td>\n",
       "      <td>3.0</td>\n",
       "      <td>17.0</td>\n",
       "      <td>0.0</td>\n",
       "      <td>NaN</td>\n",
       "      <td>0.0</td>\n",
       "      <td>NaN</td>\n",
       "      <td>NaN</td>\n",
       "      <td>NaN</td>\n",
       "      <td>NaN</td>\n",
       "      <td>NaN</td>\n",
       "    </tr>\n",
       "    <tr>\n",
       "      <th>3</th>\n",
       "      <td>2008</td>\n",
       "      <td>1</td>\n",
       "      <td>3</td>\n",
       "      <td>4</td>\n",
       "      <td>926.0</td>\n",
       "      <td>930</td>\n",
       "      <td>1054.0</td>\n",
       "      <td>1100.0</td>\n",
       "      <td>WN</td>\n",
       "      <td>1746.0</td>\n",
       "      <td>N612SW</td>\n",
       "      <td>88.0</td>\n",
       "      <td>90.0</td>\n",
       "      <td>78.0</td>\n",
       "      <td>-6.0</td>\n",
       "      <td>-4.0</td>\n",
       "      <td>IND</td>\n",
       "      <td>BWI</td>\n",
       "      <td>515.0</td>\n",
       "      <td>3.0</td>\n",
       "      <td>7.0</td>\n",
       "      <td>0.0</td>\n",
       "      <td>NaN</td>\n",
       "      <td>0.0</td>\n",
       "      <td>NaN</td>\n",
       "      <td>NaN</td>\n",
       "      <td>NaN</td>\n",
       "      <td>NaN</td>\n",
       "      <td>NaN</td>\n",
       "    </tr>\n",
       "    <tr>\n",
       "      <th>4</th>\n",
       "      <td>2008</td>\n",
       "      <td>1</td>\n",
       "      <td>3</td>\n",
       "      <td>4</td>\n",
       "      <td>1829.0</td>\n",
       "      <td>1755</td>\n",
       "      <td>1959.0</td>\n",
       "      <td>1925.0</td>\n",
       "      <td>WN</td>\n",
       "      <td>3920.0</td>\n",
       "      <td>N464WN</td>\n",
       "      <td>90.0</td>\n",
       "      <td>90.0</td>\n",
       "      <td>77.0</td>\n",
       "      <td>34.0</td>\n",
       "      <td>34.0</td>\n",
       "      <td>IND</td>\n",
       "      <td>BWI</td>\n",
       "      <td>515.0</td>\n",
       "      <td>3.0</td>\n",
       "      <td>10.0</td>\n",
       "      <td>0.0</td>\n",
       "      <td>NaN</td>\n",
       "      <td>0.0</td>\n",
       "      <td>2.0</td>\n",
       "      <td>0.0</td>\n",
       "      <td>0.0</td>\n",
       "      <td>0.0</td>\n",
       "      <td>32.0</td>\n",
       "    </tr>\n",
       "    <tr>\n",
       "      <th>5</th>\n",
       "      <td>2008</td>\n",
       "      <td>1</td>\n",
       "      <td>3</td>\n",
       "      <td>4</td>\n",
       "      <td>1940.0</td>\n",
       "      <td>1915</td>\n",
       "      <td>2121.0</td>\n",
       "      <td>2110.0</td>\n",
       "      <td>WN</td>\n",
       "      <td>378.0</td>\n",
       "      <td>N726SW</td>\n",
       "      <td>101.0</td>\n",
       "      <td>115.0</td>\n",
       "      <td>87.0</td>\n",
       "      <td>11.0</td>\n",
       "      <td>25.0</td>\n",
       "      <td>IND</td>\n",
       "      <td>JAX</td>\n",
       "      <td>688.0</td>\n",
       "      <td>4.0</td>\n",
       "      <td>10.0</td>\n",
       "      <td>0.0</td>\n",
       "      <td>NaN</td>\n",
       "      <td>0.0</td>\n",
       "      <td>NaN</td>\n",
       "      <td>NaN</td>\n",
       "      <td>NaN</td>\n",
       "      <td>NaN</td>\n",
       "      <td>NaN</td>\n",
       "    </tr>\n",
       "    <tr>\n",
       "      <th>6</th>\n",
       "      <td>2008</td>\n",
       "      <td>1</td>\n",
       "      <td>3</td>\n",
       "      <td>4</td>\n",
       "      <td>1937.0</td>\n",
       "      <td>1830</td>\n",
       "      <td>2037.0</td>\n",
       "      <td>1940.0</td>\n",
       "      <td>WN</td>\n",
       "      <td>509.0</td>\n",
       "      <td>N763SW</td>\n",
       "      <td>240.0</td>\n",
       "      <td>250.0</td>\n",
       "      <td>230.0</td>\n",
       "      <td>57.0</td>\n",
       "      <td>67.0</td>\n",
       "      <td>IND</td>\n",
       "      <td>LAS</td>\n",
       "      <td>1591.0</td>\n",
       "      <td>3.0</td>\n",
       "      <td>7.0</td>\n",
       "      <td>0.0</td>\n",
       "      <td>NaN</td>\n",
       "      <td>0.0</td>\n",
       "      <td>10.0</td>\n",
       "      <td>0.0</td>\n",
       "      <td>0.0</td>\n",
       "      <td>0.0</td>\n",
       "      <td>47.0</td>\n",
       "    </tr>\n",
       "    <tr>\n",
       "      <th>7</th>\n",
       "      <td>2008</td>\n",
       "      <td>1</td>\n",
       "      <td>3</td>\n",
       "      <td>4</td>\n",
       "      <td>1039.0</td>\n",
       "      <td>1040</td>\n",
       "      <td>1132.0</td>\n",
       "      <td>1150.0</td>\n",
       "      <td>WN</td>\n",
       "      <td>535.0</td>\n",
       "      <td>N428WN</td>\n",
       "      <td>233.0</td>\n",
       "      <td>250.0</td>\n",
       "      <td>219.0</td>\n",
       "      <td>-18.0</td>\n",
       "      <td>-1.0</td>\n",
       "      <td>IND</td>\n",
       "      <td>LAS</td>\n",
       "      <td>1591.0</td>\n",
       "      <td>7.0</td>\n",
       "      <td>7.0</td>\n",
       "      <td>0.0</td>\n",
       "      <td>NaN</td>\n",
       "      <td>0.0</td>\n",
       "      <td>NaN</td>\n",
       "      <td>NaN</td>\n",
       "      <td>NaN</td>\n",
       "      <td>NaN</td>\n",
       "      <td>NaN</td>\n",
       "    </tr>\n",
       "    <tr>\n",
       "      <th>8</th>\n",
       "      <td>2008</td>\n",
       "      <td>1</td>\n",
       "      <td>3</td>\n",
       "      <td>4</td>\n",
       "      <td>617.0</td>\n",
       "      <td>615</td>\n",
       "      <td>652.0</td>\n",
       "      <td>650.0</td>\n",
       "      <td>WN</td>\n",
       "      <td>11.0</td>\n",
       "      <td>N689SW</td>\n",
       "      <td>95.0</td>\n",
       "      <td>95.0</td>\n",
       "      <td>70.0</td>\n",
       "      <td>2.0</td>\n",
       "      <td>2.0</td>\n",
       "      <td>IND</td>\n",
       "      <td>MCI</td>\n",
       "      <td>451.0</td>\n",
       "      <td>6.0</td>\n",
       "      <td>19.0</td>\n",
       "      <td>0.0</td>\n",
       "      <td>NaN</td>\n",
       "      <td>0.0</td>\n",
       "      <td>NaN</td>\n",
       "      <td>NaN</td>\n",
       "      <td>NaN</td>\n",
       "      <td>NaN</td>\n",
       "      <td>NaN</td>\n",
       "    </tr>\n",
       "    <tr>\n",
       "      <th>9</th>\n",
       "      <td>2008</td>\n",
       "      <td>1</td>\n",
       "      <td>3</td>\n",
       "      <td>4</td>\n",
       "      <td>1620.0</td>\n",
       "      <td>1620</td>\n",
       "      <td>1639.0</td>\n",
       "      <td>1655.0</td>\n",
       "      <td>WN</td>\n",
       "      <td>810.0</td>\n",
       "      <td>N648SW</td>\n",
       "      <td>79.0</td>\n",
       "      <td>95.0</td>\n",
       "      <td>70.0</td>\n",
       "      <td>-16.0</td>\n",
       "      <td>0.0</td>\n",
       "      <td>IND</td>\n",
       "      <td>MCI</td>\n",
       "      <td>451.0</td>\n",
       "      <td>3.0</td>\n",
       "      <td>6.0</td>\n",
       "      <td>0.0</td>\n",
       "      <td>NaN</td>\n",
       "      <td>0.0</td>\n",
       "      <td>NaN</td>\n",
       "      <td>NaN</td>\n",
       "      <td>NaN</td>\n",
       "      <td>NaN</td>\n",
       "      <td>NaN</td>\n",
       "    </tr>\n",
       "    <tr>\n",
       "      <th>10</th>\n",
       "      <td>2008</td>\n",
       "      <td>1</td>\n",
       "      <td>3</td>\n",
       "      <td>4</td>\n",
       "      <td>706.0</td>\n",
       "      <td>700</td>\n",
       "      <td>916.0</td>\n",
       "      <td>915.0</td>\n",
       "      <td>WN</td>\n",
       "      <td>100.0</td>\n",
       "      <td>N690SW</td>\n",
       "      <td>130.0</td>\n",
       "      <td>135.0</td>\n",
       "      <td>106.0</td>\n",
       "      <td>1.0</td>\n",
       "      <td>6.0</td>\n",
       "      <td>IND</td>\n",
       "      <td>MCO</td>\n",
       "      <td>828.0</td>\n",
       "      <td>5.0</td>\n",
       "      <td>19.0</td>\n",
       "      <td>0.0</td>\n",
       "      <td>NaN</td>\n",
       "      <td>0.0</td>\n",
       "      <td>NaN</td>\n",
       "      <td>NaN</td>\n",
       "      <td>NaN</td>\n",
       "      <td>NaN</td>\n",
       "      <td>NaN</td>\n",
       "    </tr>\n",
       "  </tbody>\n",
       "</table>"
      ],
      "text/plain": [
       "<'CSV' data; _name='_1', dshape='var * {  Year: int64,  Month: int64,  DayofMonth: ...'>"
      ]
     },
     "execution_count": 17,
     "metadata": {},
     "output_type": "execute_result"
    }
   ],
   "source": [
    "df4"
   ]
  },
  {
   "cell_type": "code",
   "execution_count": 72,
   "metadata": {
    "collapsed": false
   },
   "outputs": [
    {
     "name": "stdout",
     "output_type": "stream",
     "text": [
      "100.374751329422\n"
     ]
    }
   ],
   "source": [
    "tiempo_inicial = time()\n",
    "df3.to_csv( 'output1.csv')\n",
    "tiempo_final = time()\n",
    "print(tiempo_final - tiempo_inicial)"
   ]
  },
  {
   "cell_type": "code",
   "execution_count": null,
   "metadata": {
    "collapsed": false
   },
   "outputs": [],
   "source": []
  },
  {
   "cell_type": "code",
   "execution_count": null,
   "metadata": {
    "collapsed": true
   },
   "outputs": [],
   "source": []
  }
 ],
 "metadata": {
  "anaconda-cloud": {},
  "kernelspec": {
   "display_name": "Python [default]",
   "language": "python",
   "name": "python3"
  },
  "language_info": {
   "codemirror_mode": {
    "name": "ipython",
    "version": 3
   },
   "file_extension": ".py",
   "mimetype": "text/x-python",
   "name": "python",
   "nbconvert_exporter": "python",
   "pygments_lexer": "ipython3",
   "version": "3.5.2"
  }
 },
 "nbformat": 4,
 "nbformat_minor": 2
}
